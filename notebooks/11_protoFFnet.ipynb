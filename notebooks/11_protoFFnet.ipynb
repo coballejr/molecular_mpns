{
 "cells": [
  {
   "cell_type": "code",
   "execution_count": 116,
   "id": "58fe9cac-da88-4a00-9a33-004360351d86",
   "metadata": {},
   "outputs": [],
   "source": [
    "from molecular_mpns.config import data_dir\n",
    "from molecular_mpns.proto_molecule import Molecule\n",
    "import numpy as np\n",
    "import torch\n",
    "import matplotlib.pyplot as plt\n",
    "from torch.optim.lr_scheduler import ExponentialLR\n",
    "import seaborn as sns"
   ]
  },
  {
   "cell_type": "code",
   "execution_count": 117,
   "id": "982d256a-377a-4baf-960c-09e2bd116e0c",
   "metadata": {},
   "outputs": [],
   "source": [
    "# define simulation params\n",
    "beta = 15.0\n",
    "dt = 5e-3\n",
    "tau = 1\n",
    "h = tau*dt\n",
    "\n",
    "# load data\n",
    "xyz_traj = np.load(str(data_dir)+'/proto_mol_traj.npy')\n",
    "m,p,d = xyz_traj.shape\n",
    "\n",
    "xyz_centers = xyz_traj[:,2,:] # pick 'middle' atoms as reference positions\n",
    "xyz_centers = np.tile(xyz_centers,(1,p))\n",
    "xyz_traj = xyz_traj.reshape((m,p*d))"
   ]
  },
  {
   "cell_type": "code",
   "execution_count": 118,
   "id": "cd761aef-024a-4dc1-9591-0b9062d046c7",
   "metadata": {},
   "outputs": [],
   "source": [
    "# define model\n",
    "\n",
    "class ProtoFFNet(torch.nn.Module):\n",
    "    \n",
    "    def __init__(self,in_dim,h_dim):\n",
    "        \n",
    "        super(ProtoFFNet,self).__init__()\n",
    "        \n",
    "        self.lin1 = torch.nn.Linear(in_dim,h_dim)\n",
    "        self.bn1 = torch.nn.BatchNorm1d(h_dim)\n",
    "        self.lin2 = torch.nn.Linear(h_dim,h_dim)\n",
    "        self.bn2 = torch.nn.BatchNorm1d(h_dim)\n",
    "        self.lin3 = torch.nn.Linear(h_dim,h_dim)\n",
    "        self.bn3 = torch.nn.BatchNorm1d(h_dim)\n",
    "        self.lin4 = torch.nn.Linear(h_dim,h_dim)\n",
    "        self.lin5 = torch.nn.Linear(h_dim,1)\n",
    "        \n",
    "    def forward(self,x):\n",
    "        h = self.lin1(x)\n",
    "        h = torch.nn.functional.silu(h)\n",
    "        h = self.bn1(h)\n",
    "        h = self.lin2(h)\n",
    "        h = torch.nn.functional.silu(h)\n",
    "        h = self.bn2(h)\n",
    "        h = self.lin3(h)\n",
    "        h = torch.nn.functional.silu(h)\n",
    "        h = self.bn3(h)\n",
    "        h = self.lin4(h)\n",
    "        h = torch.nn.functional.silu(h)\n",
    "        h = self.lin5(h)\n",
    "        \n",
    "        return h"
   ]
  },
  {
   "cell_type": "code",
   "execution_count": 119,
   "id": "000425d8-dc27-4da6-822e-a8c25fe60c9c",
   "metadata": {},
   "outputs": [
    {
     "name": "stdout",
     "output_type": "stream",
     "text": [
      "Epoch 1 Loss: 123.07424846076069\n",
      "Epoch 2 Loss: 118.63286569519262\n",
      "Epoch 3 Loss: 117.45571794245737\n",
      "Epoch 4 Loss: 116.86263496481824\n",
      "Epoch 5 Loss: 116.47380105962137\n",
      "Epoch 6 Loss: 116.18997607285074\n",
      "Epoch 7 Loss: 115.9649259497318\n",
      "Epoch 8 Loss: 115.77736207339619\n",
      "Epoch 9 Loss: 115.61533434687416\n",
      "Epoch 10 Loss: 115.47177398088338\n",
      "Epoch 11 Loss: 115.34233668763868\n",
      "Epoch 12 Loss: 115.2244095254154\n",
      "Epoch 13 Loss: 115.11660964890639\n",
      "Epoch 14 Loss: 115.01656416126094\n",
      "Epoch 15 Loss: 114.92387543006919\n",
      "Epoch 16 Loss: 114.83701605816302\n",
      "Epoch 17 Loss: 114.75573168395665\n",
      "Epoch 18 Loss: 114.679116858622\n",
      "Epoch 19 Loss: 114.60702466918457\n",
      "Epoch 20 Loss: 114.53902988328676\n"
     ]
    }
   ],
   "source": [
    "# build model\n",
    "in_dim,h_dim = p*d,128\n",
    "mod = ProtoFFNet(in_dim,h_dim)\n",
    "mod = mod.double()\n",
    "\n",
    "criterion = torch.nn.MSELoss()\n",
    "opt = torch.optim.Adam(mod.parameters(),lr=1e-3)\n",
    "sched = ExponentialLR(opt, gamma = 0.95)\n",
    "\n",
    "device = torch.device(\"cuda\" if torch.cuda.is_available() else \"cpu\")\n",
    "mod = mod.to(device)\n",
    "\n",
    "# train model\n",
    "split_idx = 1000000\n",
    "epochs,batch_size = 20,32\n",
    "\n",
    "for ep in range(epochs):\n",
    "    batch = 0\n",
    "    ep_loss = 0.0\n",
    "    while batch*batch_size < split_idx:\n",
    "        idx1,idx2 = batch*batch_size,(batch+1)*batch_size\n",
    "        \n",
    "        xyz_current = torch.tensor(xyz_traj[idx1:idx2]).to(device)\n",
    "        xyz_relative = torch.tensor(xyz_traj[idx1:idx2]-xyz_centers[idx1:idx2],requires_grad = True).to(device)\n",
    "        xyz_next = torch.tensor(xyz_traj[(idx1+tau):(idx2+tau)]).to(device)\n",
    "        \n",
    "        xyz_relative\n",
    "        V = mod(xyz_relative).sum()\n",
    "        b = -torch.autograd.grad(V,xyz_relative,create_graph = True)[0]\n",
    "        \n",
    "        mu = xyz_current+b*h\n",
    "        loss = (1/(2*beta*h))*criterion(xyz_next,mu)\n",
    "        \n",
    "        ep_loss += loss.item()\n",
    "        loss.backward()\n",
    "        opt.step()\n",
    "        opt.zero_grad()\n",
    "        \n",
    "        batch += 1\n",
    "    \n",
    "    sched.step()\n",
    "    print('Epoch ' + str(ep+1) + ' Loss: ' + str(ep_loss))"
   ]
  },
  {
   "cell_type": "code",
   "execution_count": 120,
   "id": "6dc62ec9-c8a1-454c-921c-e3adce8a7af1",
   "metadata": {},
   "outputs": [
    {
     "data": {
      "image/png": "[encoded data removed]",
      "text/plain": [
       "<Figure size 432x288 with 1 Axes>"
      ]
     },
     "metadata": {
      "needs_background": "light"
     },
     "output_type": "display_data"
    }
   ],
   "source": [
    "# set up molecular environment \n",
    "N = 5\n",
    "beta = 15.0\n",
    "kb = 1.0\n",
    "rb = 2.0\n",
    "ka = 1.0\n",
    "ra = np.pi/2\n",
    "kd = np.array([[0.02, 3], [0.02, 2]])\n",
    "mol = Molecule(N, beta, kb, rb, ka, ra, kd)\n",
    "\n",
    "# simulate trajectory\n",
    "mod = mod.eval()\n",
    "L = 100000\n",
    "sim_traj = np.zeros(L)\n",
    "xyz = xyz_traj[0].reshape((1,p*d))\n",
    "\n",
    "for i in range(L):\n",
    "    xyz_center = xyz[0][6:9]\n",
    "    xyz_center = np.tile(xyz_center,p)\n",
    "    xyz_tens = torch.tensor(xyz-xyz_center,requires_grad=True).view(1,d*p).to(device)\n",
    "    V = mod(xyz_tens)\n",
    "    b = -torch.autograd.grad(V,xyz_tens)[0]\n",
    "    b = b.detach().cpu().numpy()\n",
    "    xyz += b*h + np.sqrt((2*h)/beta)*np.random.randn(1,d*p)\n",
    "    \n",
    "    xyz_tmp = xyz.reshape((p,d))\n",
    "    ic = mol._internal_coordinates(xyz_tmp)\n",
    "    sim_traj[i] = ic[8]\n",
    "\n",
    "sns.kdeplot(sim_traj)\n",
    "plt.show()\n",
    "plt.close()"
   ]
  },
  {
   "cell_type": "code",
   "execution_count": null,
   "id": "666c41b9-c5f1-4abc-8f6b-0e60635089f9",
   "metadata": {},
   "outputs": [],
   "source": []
  }
 ],
 "metadata": {
  "kernelspec": {
   "display_name": "Python 3",
   "language": "python",
   "name": "python3"
  },
  "language_info": {
   "codemirror_mode": {
    "name": "ipython",
    "version": 3
   },
   "file_extension": ".py",
   "mimetype": "text/x-python",
   "name": "python",
   "nbconvert_exporter": "python",
   "pygments_lexer": "ipython3",
   "version": "3.8.8"
  }
 },
 "nbformat": 4,
 "nbformat_minor": 5
}
