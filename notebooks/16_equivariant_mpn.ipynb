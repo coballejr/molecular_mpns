{
 "cells": [
  {
   "cell_type": "code",
   "execution_count": null,
   "id": "a477247c-48c4-4e5c-b286-e1be60ae290f",
   "metadata": {},
   "outputs": [],
   "source": [
    "import torch_geometric\n",
    "from torch_geometric.data import DataLoader\n",
    "from torch_geometric.nn import MessagePassing,global_add_pool\n",
    "from torch_geometric.utils import remove_self_loops\n",
    "import torch\n",
    "import numpy as np\n",
    "import matplotlib.pyplot as plt\n",
    "from molecular_mpns.data import MolGraph\n",
    "from molecular_mpns.systems import WellSystem\n",
    "from torch.optim.lr_scheduler import ExponentialLR"
   ]
  },
  {
   "cell_type": "code",
   "execution_count": null,
   "id": "41b6f9e2-50f2-4f2d-914b-e244df9f9afa",
   "metadata": {},
   "outputs": [],
   "source": [
    "# system parameters\n",
    "N = 2\n",
    "a = 0\n",
    "b = -5\n",
    "c = 0.9\n",
    "d0 = 4\n",
    "tau = 1\n",
    "system = WellSystem(N,a,b,c,d0,tau)\n",
    "\n",
    "# create a langevian trajectory\n",
    "x = np.array([[0.,0.],[1.1,1.1]])\n",
    "M = 2000000\n",
    "beta = 2\n",
    "dt = 1e-3\n",
    "\n",
    "traj = np.zeros((M,N,2))\n",
    "d_traj = np.zeros(M)\n",
    "pot_traj = np.zeros(M)\n",
    "\n",
    "np.random.seed(42)\n",
    "for i in range(M):\n",
    "    x = x - system._gradient(x)*dt + np.sqrt(2*dt/beta)*np.random.randn(N,2)\n",
    "    dist = system._r(x)\n",
    "    pot = system._potential(x)\n",
    "    \n",
    "    traj[i] = x\n",
    "    d_traj[i] = dist[0,1]\n",
    "    pot_traj[i] = pot"
   ]
  }
 ],
 "metadata": {
  "kernelspec": {
   "display_name": "Python 3",
   "language": "python",
   "name": "python3"
  },
  "language_info": {
   "codemirror_mode": {
    "name": "ipython",
    "version": 3
   },
   "file_extension": ".py",
   "mimetype": "text/x-python",
   "name": "python",
   "nbconvert_exporter": "python",
   "pygments_lexer": "ipython3",
   "version": "3.8.8"
  }
 },
 "nbformat": 4,
 "nbformat_minor": 5
}
