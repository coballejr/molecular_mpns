{
 "cells": [
  {
   "cell_type": "code",
   "execution_count": 12,
   "metadata": {},
   "outputs": [],
   "source": [
    "from d3s.algorithms import gedmd\n",
    "from d3s.domain import discretization\n",
    "from d3s.observables import gaussians_with_id\n",
    "import torch \n",
    "from molecular_mpns.proto_molecule import Molecule\n",
    "from molecular_mpns.data import MarkovMolGraph\n",
    "from molecular_mpns.config import data_dir,fig_dir,model_dir\n",
    "from molecular_mpns.modules import ProtoNet\n",
    "from molecular_mpns.math import proto_reference_params\n",
    "import numpy as np\n",
    "import matplotlib.pyplot as plt"
   ]
  },
  {
   "cell_type": "code",
   "execution_count": 13,
   "metadata": {},
   "outputs": [],
   "source": [
    "# set up molecular environment \n",
    "N = 5\n",
    "beta = 15.0\n",
    "kb = 1.0\n",
    "rb = 2.0\n",
    "ka = 1.0\n",
    "ra = np.pi/2\n",
    "kd = np.array([[0.02, 3], [0.02, 2]])\n",
    "mol = Molecule(N, beta, kb, rb, ka, ra, kd)\n",
    "\n",
    "# load data\n",
    "data = np.load(str(data_dir)+'/proto_mol_traj.npy')\n",
    "\n",
    "# training-validation partition\n",
    "np.random.seed(42)\n",
    "part = 1000000\n",
    "n_train,n_val = 1000000,1000000\n",
    "\n",
    "train,val = data[0:part],data[part:]\n",
    "train_idx,val_idx = np.random.choice(train.shape[0],n_train),np.random.choice(val.shape[0],n_val)"
   ]
  },
  {
   "cell_type": "code",
   "execution_count": 14,
   "metadata": {},
   "outputs": [],
   "source": [
    "# gedmd params\n",
    "bounds,boxes = np.array([[-np.pi,np.pi],[-np.pi,np.pi]]),np.array([10,10])\n",
    "omega = discretization(bounds,boxes)\n",
    "sigma = np.sqrt(0.05)\n",
    "psi = gaussians_with_id(Omega = omega,sigma = sigma)\n",
    "\n",
    "# dihedral angle coarse-grained reference model\n",
    "\n",
    "X = np.zeros((2,n_train))\n",
    "Y = np.zeros((2,n_train))\n",
    "Z = np.zeros((2,3*N,n_train))\n",
    "\n",
    "for i,idx in enumerate(train_idx):\n",
    "    a_coords = train[idx]\n",
    "    x = mol._internal_coordinates(a_coords)[7:9]\n",
    "    dV = mol._gradient(a_coords)\n",
    "    y,z = proto_reference_params(torch.tensor(a_coords),dV,beta)\n",
    "    X[:,i] = x\n",
    "    Y[:,i] = y.reshape(2)\n",
    "    Z[:,:,i] = z\n",
    "\n",
    "A,d,V = gedmd(X,-Y,-Z,psi,diffusion = True,evs=10)"
   ]
  },
  {
   "cell_type": "code",
   "execution_count": null,
   "metadata": {},
   "outputs": [],
   "source": []
  }
 ],
 "metadata": {
  "kernelspec": {
   "display_name": "Python 3",
   "language": "python",
   "name": "python3"
  },
  "language_info": {
   "codemirror_mode": {
    "name": "ipython",
    "version": 3
   },
   "file_extension": ".py",
   "mimetype": "text/x-python",
   "name": "python",
   "nbconvert_exporter": "python",
   "pygments_lexer": "ipython3",
   "version": "3.8.5"
  }
 },
 "nbformat": 4,
 "nbformat_minor": 4
}
