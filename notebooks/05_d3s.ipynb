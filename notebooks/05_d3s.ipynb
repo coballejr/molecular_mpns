{
 "cells": [
  {
   "cell_type": "code",
   "execution_count": 37,
   "metadata": {},
   "outputs": [],
   "source": [
    "import numpy as np\n",
    "from d3s.domain import discretization\n",
    "from d3s.observables import gaussians\n",
    "from d3s.algorithms import gedmd"
   ]
  },
  {
   "cell_type": "code",
   "execution_count": 38,
   "metadata": {},
   "outputs": [],
   "source": [
    "# toy data, single well potential V(x,y) = (x**2)/2+(y**2)/2 in R2\n",
    "np.random.seed(42)\n",
    "m,d = 1000,2\n",
    "beta,dt = 4,1e-3\n",
    "\n",
    "X = 2*np.random.rand(2,m)-1 # data points\n",
    "Y = np.vstack([-X[0,:],-X[1,:]]) # b term\n",
    "Z = (1/beta)*np.sqrt(dt)*np.eye(d)\n",
    "Z = np.broadcast_to(Z,(m,d,d)) # sigma term"
   ]
  },
  {
   "cell_type": "code",
   "execution_count": 39,
   "metadata": {},
   "outputs": [
    {
     "name": "stdout",
     "output_type": "stream",
     "text": [
      "Disretization of [-1.00, 1.00]x[-1.00, 1.00] into 10x10 boxes.\n",
      "Gaussian functions for box discretization with bandwidth 0.050000.\n"
     ]
    }
   ],
   "source": [
    "# discretization and gaussian observables\n",
    "bounds,boxes = np.array([[-1,1],[-1,1]]),np.array([10,10])\n",
    "omega = discretization(bounds,boxes)\n",
    "sigma = 0.05\n",
    "psi = gaussians(Omega = omega,sigma = sigma)\n",
    "print(omega)\n",
    "print(psi)"
   ]
  },
  {
   "cell_type": "code",
   "execution_count": 40,
   "metadata": {},
   "outputs": [],
   "source": [
    "# data \n",
    "X,Y,Z = np.array([[1,0],[0,1]]).T, np.array([[0,1],[-1,0]]).T,np.array([np.eye(2),np.eye(2)])\n",
    "A,d,V = gedmd(X,Y,Z,psi)"
   ]
  }
 ],
 "metadata": {
  "kernelspec": {
   "display_name": "Python 3",
   "language": "python",
   "name": "python3"
  },
  "language_info": {
   "codemirror_mode": {
    "name": "ipython",
    "version": 3
   },
   "file_extension": ".py",
   "mimetype": "text/x-python",
   "name": "python",
   "nbconvert_exporter": "python",
   "pygments_lexer": "ipython3",
   "version": "3.8.5"
  }
 },
 "nbformat": 4,
 "nbformat_minor": 4
}
