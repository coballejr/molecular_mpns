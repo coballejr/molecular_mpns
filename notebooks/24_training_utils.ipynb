{
 "cells": [
  {
   "cell_type": "code",
   "execution_count": 5,
   "id": "ab923ba2-3dd6-4dce-9e34-e307b5f332fb",
   "metadata": {},
   "outputs": [],
   "source": [
    "import numpy as np \n",
    "import mdtraj as md\n",
    "from molecular_mpns.config import data_dir, fig_dir\n",
    "from molecular_mpns.vae import VAE, VAEloss\n",
    "from molecular_mpns.data import AlanineDipeptideGraph\n",
    "from torch_geometric.data import DataLoader\n",
    "import torch\n",
    "import matplotlib.pyplot as plt\n",
    "import seaborn as sns\n",
    "from torch.optim.lr_scheduler import ExponentialLR\n",
    "import os"
   ]
  },
  {
   "cell_type": "code",
   "execution_count": 6,
   "id": "95b520bf-a13b-476d-80e4-64210daaa5b8",
   "metadata": {},
   "outputs": [],
   "source": [
    "# load training trajectory\n",
    "os.chdir(data_dir)\n",
    "os.chdir('alanine_dipeptide/')\n",
    "xtc_file = 'alanine-dipeptide-0-250ns-nowater.xtc'\n",
    "top_file = 'alanine-dipeptide-nowater.pdb'\n",
    "traj = md.load(xtc_file,top=top_file)"
   ]
  },
  {
   "cell_type": "code",
   "execution_count": 7,
   "id": "0ad66694-c70d-4bde-95e6-862c08e779b1",
   "metadata": {},
   "outputs": [],
   "source": [
    "# create graphs\n",
    "batch_size = 32\n",
    "z = [atom.element.atomic_number for atom in traj.topology.atoms]\n",
    "G = [AlanineDipeptideGraph(z = torch.tensor(z).long(),pos = torch.tensor(xyz)) for xyz in traj.xyz]"
   ]
  },
  {
   "cell_type": "code",
   "execution_count": 8,
   "id": "96d27e33-8ce3-4e4e-aa9b-88fb90341eb9",
   "metadata": {},
   "outputs": [],
   "source": [
    "# build model\n",
    "device = torch.device(\"cuda\" if torch.cuda.is_available() else \"cpu\")\n",
    "kwargs = {'num_spherical': 16, 'num_radial': 6, 'hidden_channels': 64, 'num_bilinear': 4, 'out_channels': 64, 'num_layers': 2, 'num_blocks': 1,\n",
    "         'num_enc_lins': 4, 'num_dec_lins': 4, 'enc_act': torch.tanh, 'dec_act': torch.tanh, 'dec_hidden_channels': 64, 'dec_var_const': False,\n",
    "         'cutoff': 0.5, 'zdim': 2}\n",
    "\n",
    "mod = VAE(**kwargs)\n",
    "mod = mod.to(device)"
   ]
  },
  {
   "cell_type": "code",
   "execution_count": 9,
   "id": "4ccdefbc-5507-4a43-829c-0f76bc61b81b",
   "metadata": {},
   "outputs": [],
   "source": [
    "# train-test split\n",
    "\n",
    "def train_test_split(data, subset_size, train_prop, seed = 42):\n",
    "    \n",
    "    np.random.seed(seed)\n",
    "    assert subset_size < len(data)\n",
    "    random_idx = np.random.choice(len(data), subset_size, replace = False)\n",
    "    \n",
    "    assert train_prop < 1\n",
    "    train_size = int(train_prop*subset_size)\n",
    "    train_idx, test_idx = random_idx[0:train_size], random_idx[train_size:]\n",
    "    \n",
    "    train, test = [data[i] for i in train_idx], [data[i] for i in test_idx]\n",
    "    \n",
    "    return train, test\n",
    "\n",
    "subset_size, train_prop  = 500, 0.5\n",
    "train, test = train_test_split(data = G,subset_size = subset_size, train_prop = train_prop)"
   ]
  },
  {
   "cell_type": "code",
   "execution_count": 10,
   "id": "3dc3c5c2-6f4b-4e77-a182-74910fe99343",
   "metadata": {},
   "outputs": [
    {
     "data": {
      "image/png": "[encoded data removed]",
      "text/plain": [
       "<Figure size 432x288 with 1 Axes>"
      ]
     },
     "metadata": {
      "needs_background": "light"
     },
     "output_type": "display_data"
    }
   ],
   "source": [
    "# plot dihedrals\n",
    "\n",
    "def plot_dihedrals(traj_xyz, topology, bins = 40, rng = [[-np.pi,np.pi],[-np.pi, np.pi]],psi_inds = [6, 8, 14, 16], phi_inds = [4, 6, 8, 14]):\n",
    "    traj = md.Trajectory(traj_xyz, topology = topology)\n",
    "    dihedrals = md.compute_dihedrals(traj,[psi_inds,phi_inds])\n",
    "    psi, phi = dihedrals[:,1], dihedrals[:,0]\n",
    "    \n",
    "    plt.hist2d(psi, phi, bins = bins, range = rng)\n",
    "    plt.gca().set_aspect('equal')\n",
    "    plt.show()\n",
    "    plt.close()\n",
    "    \n",
    "    return dihedrals\n",
    "    \n",
    "traj_xyz = np.array([mol.pos.cpu().numpy() for mol in train])\n",
    "\n",
    "dihedrals = plot_dihedrals(traj_xyz = traj_xyz, topology = traj.topology)"
   ]
  },
  {
   "cell_type": "code",
   "execution_count": 11,
   "id": "09642cbd-26cb-4375-aea8-ff377fc2d4b4",
   "metadata": {},
   "outputs": [
    {
     "data": {
      "image/png": "[encoded data removed]",
      "text/plain": [
       "<Figure size 432x288 with 1 Axes>"
      ]
     },
     "metadata": {
      "needs_background": "light"
     },
     "output_type": "display_data"
    }
   ],
   "source": [
    "# radius of gyration\n",
    "def radius_of_gyration(xyz, topology):\n",
    "    masses = np.array([atom.element.mass for atom in topology.atoms])\n",
    "    total_mass = masses.sum()\n",
    "    com = np.array([m*x for m,x in zip(masses,xyz)]).sum(axis = 0) / total_mass\n",
    "    \n",
    "    r_sq = ((xyz - com)**2).sum(axis = 1) \n",
    "    rog_sq = (masses*r_sq).sum() / total_mass\n",
    "    \n",
    "    return np.sqrt(rog_sq)\n",
    "\n",
    "rog = radius_of_gyration(traj_xyz[0], topology = traj.topology)\n",
    "\n",
    "def plot_rogs(traj_xyz, topology, density = True, xlims = [0.2, 0.28], histtype = 'step'):\n",
    "    rogs = [radius_of_gyration(xyz, topology = topology) for xyz in traj_xyz]\n",
    "    \n",
    "    plt.hist(rogs, density = density, histtype = histtype)\n",
    "    plt.xlim(xlims)\n",
    "    plt.show()\n",
    "    plt.close()\n",
    "    \n",
    "    return rogs\n",
    "\n",
    "rogs = plot_rogs(traj_xyz = traj_xyz, topology = traj.topology)\n"
   ]
  },
  {
   "cell_type": "code",
   "execution_count": 12,
   "id": "a3ab7c83-47c0-4bc4-b6bf-2ac78cc30113",
   "metadata": {},
   "outputs": [],
   "source": [
    "# ancestral sampler\n",
    "\n",
    "def ancestral_sample(mod, T, device ,dim_z = 2, n_atoms = 22):\n",
    "    w = torch.randn((T, dim_z))\n",
    "    with torch.no_grad():\n",
    "        mu_dec, logvar_dec = mod.decode(w.to(device))\n",
    "        x_recon = mod.reparameterize(mu_dec, logvar_dec)\n",
    "    \n",
    "    x_recon = x_recon.cpu().numpy()\n",
    "    x_recon = x_recon.reshape((T, n_atoms ,3))\n",
    "    return x_recon\n",
    "\n",
    "x_recon = ancestral_sample(mod = mod , T = 250, device = device)"
   ]
  },
  {
   "cell_type": "code",
   "execution_count": 13,
   "id": "cf3176e2-cb27-48a1-86e4-8db4c36d6498",
   "metadata": {},
   "outputs": [],
   "source": [
    "# metropolis within gibbs\n",
    "\n",
    "# initialize\n",
    "z0 = torch.randn((1,2)).to(device)\n",
    "x0 = torch.tensor(traj_xyz[0])\n",
    "\n",
    "G_batch = [AlanineDipeptideGraph(z = torch.tensor(z).long(), pos = x0)]\n",
    "loader = DataLoader(G_batch, batch_size = 1)\n",
    "\n",
    "# draw proposal z_t\n",
    "for g in loader:\n",
    "    g = g.to(device)\n",
    "    with torch.no_grad():\n",
    "        mu_x0, logvar_x0 = mod.encode(g)\n",
    "        var_x0 = torch.exp(0.5*logvar_x0)\n",
    "        znext = mod.reparameterize(mu_x0, logvar_x0)\n",
    "        \n",
    "# compute params for p(x | z)\n",
    "with torch.no_grad():\n",
    "    mu_z0, logvar_z0 = mod.decode(z0)\n",
    "    var_z0 = torch.exp(0.5*logvar_z0)\n",
    "    mu_znext, logvar_znext = mod.decode(znext.to(device))\n",
    "    var_znext = torch.exp(0.5*logvar_znext)\n",
    "    \n",
    "# compute p(x_{t-1} | z_t) and p(x_{t-1} | z_{t-1})\n",
    "p_z0 = torch.exp(-0.5*(((x0.flatten().to(device) - mu_z0)*(1/var_z0)).pow(2).sum()))\n",
    "p_znext = torch.exp(-0.5*(((x0.flatten().to(device) - mu_znext)*(1/var_znext)).pow(2).sum()))\n",
    "            \n",
    "# compute p(z_t) and p(z_{t-1})\n",
    "pri_z0 = torch.exp(-0.5*(z0.pow(2).sum()))\n",
    "pri_znext = torch.exp(-0.5*(znext.pow(2).sum()))\n",
    "\n",
    "# compute q(z_t | x_{t-1}) and q(z_{t-1} | x_{t-1})\n",
    "q_z0 = torch.exp(-0.5*(((z0 - mu_x0)*(1/var_x0)).pow(2).sum()))\n",
    "q_znext = torch.exp(-0.5*(((znext - mu_x0)*(1/var_x0)).pow(2).sum()))\n",
    "\n",
    "# compute acceptance ratio\n",
    "ar = ((p_znext/p_z0)*(pri_znext/pri_z0)*(q_z0 / q_znext)).item()\n",
    "\n",
    "# update z0 and x0\n",
    "u = np.random.rand()\n",
    "accept = u < ar\n",
    "\n",
    "z_t = znext if accept else z0\n",
    "with torch.no_grad():\n",
    "    mu_zt, logvar_zt = mod.decode(z_t)\n",
    "    x_t = mod.reparameterize(mu_zt, logvar_zt)\n",
    "x_t = x_t.reshape((22,3))"
   ]
  },
  {
   "cell_type": "code",
   "execution_count": 14,
   "id": "dcec7fc9-5a9d-4dc4-9513-c81e6f3cc5f5",
   "metadata": {},
   "outputs": [],
   "source": [
    "# test VAE metropolis within gibbs method\n",
    "z0 = torch.randn((1,2)).to(device)\n",
    "x0 = torch.tensor(traj_xyz[0])\n",
    "atomic_numbers = z\n",
    "\n",
    "T = 250\n",
    "xyz_samples = np.zeros((T,22,3))\n",
    "\n",
    "for t in range(T):\n",
    "    z0, x0 = mod.mwg_sample(z0, x0, atomic_numbers)\n",
    "    xyz_samples[t,:,:] = x0.cpu().numpy()"
   ]
  },
  {
   "cell_type": "code",
   "execution_count": 15,
   "id": "6d5511a0-f906-417b-a748-83eaf6ec3874",
   "metadata": {},
   "outputs": [
    {
     "data": {
      "image/png": "[encoded data removed]",
      "text/plain": [
       "<Figure size 432x288 with 3 Axes>"
      ]
     },
     "metadata": {
      "needs_background": "light"
     },
     "output_type": "display_data"
    }
   ],
   "source": [
    "def compare_dihedrals(traj_xyz_ref, traj_xyz_ancestral, traj_xyz_mwg ,topology, bins = 40, rng = [[-np.pi,np.pi],[-np.pi, np.pi]],psi_inds = [6, 8, 14, 16], phi_inds = [4, 6, 8, 14]):\n",
    "    traj_ref, traj_ancestral, traj_mwg = md.Trajectory(traj_xyz_ref, topology = topology), md.Trajectory(traj_xyz_ancestral, topology = topology), md.Trajectory(traj_xyz_mwg, topology = topology)\n",
    "    dihedrals_ref, dihedrals_ancestral, dihedrals_mwg = md.compute_dihedrals(traj_ref,[psi_inds,phi_inds]), md.compute_dihedrals(traj_ancestral,[psi_inds,phi_inds]), md.compute_dihedrals(traj_mwg,[psi_inds,phi_inds])\n",
    "    psi, phi = dihedrals[:,1], dihedrals[:,0]\n",
    "    \n",
    "    fig, ax = plt.subplots(1, 3, sharey = True, sharex = True)\n",
    "    \n",
    "    psi, phi = dihedrals_ref[:,1], dihedrals_ref[:,0]\n",
    "    ax[0].hist2d(psi, phi, bins = bins, range = rng)\n",
    "    ax[0].set_aspect('equal')\n",
    "    ax[0].set_title('Reference')\n",
    "    \n",
    "    psi, phi = dihedrals_ancestral[:,1], dihedrals_ancestral[:,0]\n",
    "    ax[1].hist2d(psi, phi, bins = bins, range = rng)\n",
    "    ax[1].set_aspect('equal')\n",
    "    ax[1].set_title('Ancestral')\n",
    "    \n",
    "    psi, phi = dihedrals_mwg[:,1], dihedrals_mwg[:,0]\n",
    "    ax[2].hist2d(psi, phi, bins = bins, range = rng)\n",
    "    ax[2].set_aspect('equal')\n",
    "    ax[2].set_title('Met.-W.-Gibbs')\n",
    "    \n",
    "    plt.show()\n",
    "    plt.close()\n",
    "    \n",
    "    return dihedrals_ref, dihedrals_ancestral, dihedrals_mwg\n",
    "\n",
    "dihedrals_ref, dihedrals_ancestral, dihedrals_mwg = compare_dihedrals(traj_xyz_ref = traj_xyz, traj_xyz_ancestral = x_recon, traj_xyz_mwg = xyz_samples ,topology = traj.topology)\n",
    "    "
   ]
  },
  {
   "cell_type": "code",
   "execution_count": 18,
   "id": "1203e25a-17df-4545-90b1-d11fa2bd7d09",
   "metadata": {},
   "outputs": [
    {
     "data": {
      "image/png": "[encoded data removed]",
      "text/plain": [
       "<Figure size 432x288 with 1 Axes>"
      ]
     },
     "metadata": {
      "needs_background": "light"
     },
     "output_type": "display_data"
    }
   ],
   "source": [
    "def compare_rogs(traj_xyz_ref, traj_xyz_anc, traj_xyz_mwg, topology, density = True, xlims = [0.2, 0.28], histtype = 'step'):\n",
    "    rogs_ref = [radius_of_gyration(xyz, topology = topology) for xyz in traj_xyz_ref]\n",
    "    rogs_anc = [radius_of_gyration(xyz, topology = topology) for xyz in traj_xyz_anc]\n",
    "    rogs_mwg = [radius_of_gyration(xyz, topology = topology) for xyz in traj_xyz_mwg]\n",
    "    \n",
    "    plt.hist(rogs_ref, density = density, histtype = histtype, label = \"Reference\")\n",
    "    plt.hist(rogs_anc, density = density, histtype = histtype, label = \"Ancestral\")\n",
    "    plt.hist(rogs_ref, density = density, histtype = histtype, label = \"Met.-W.-Gibbs\")\n",
    "    \n",
    "    #plt.xlim(xlims)\n",
    "    plt.legend()\n",
    "    plt.show()\n",
    "    plt.close()\n",
    "    \n",
    "    return rogs_ref, rogs_anc, rogs_mwg\n",
    "\n",
    "rogs_ref, rogs_anc, rogs_mwg = compare_rogs(traj_xyz_ref = traj_xyz, traj_xyz_anc = x_recon, traj_xyz_mwg = xyz_samples ,topology = traj.topology)"
   ]
  },
  {
   "cell_type": "code",
   "execution_count": null,
   "id": "03c4b67d-ccb8-44e8-bd06-58a9b357a2f9",
   "metadata": {},
   "outputs": [],
   "source": []
  }
 ],
 "metadata": {
  "kernelspec": {
   "display_name": "Python 3",
   "language": "python",
   "name": "python3"
  },
  "language_info": {
   "codemirror_mode": {
    "name": "ipython",
    "version": 3
   },
   "file_extension": ".py",
   "mimetype": "text/x-python",
   "name": "python",
   "nbconvert_exporter": "python",
   "pygments_lexer": "ipython3",
   "version": "3.8.8"
  }
 },
 "nbformat": 4,
 "nbformat_minor": 5
}
