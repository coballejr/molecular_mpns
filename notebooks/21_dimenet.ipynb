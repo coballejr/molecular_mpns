{
 "cells": [
  {
   "cell_type": "code",
   "execution_count": 1,
   "id": "9b6b768a-ca84-4851-89e5-a7093c685529",
   "metadata": {},
   "outputs": [],
   "source": [
    "from molecular_mpns.config import data_dir\n",
    "import numpy as np \n",
    "import mdtraj as md\n",
    "import os\n",
    "from torch_geometric.nn.models.dimenet import DimeNet\n",
    "from molecular_mpns.data import AlanineDipeptideGraph\n",
    "from torch_geometric.data import DataLoader\n",
    "import torch"
   ]
  },
  {
   "cell_type": "code",
   "execution_count": 2,
   "id": "8d54c107-2f26-4507-92c9-70244e814c8c",
   "metadata": {},
   "outputs": [],
   "source": [
    "# load training trajectory\n",
    "os.chdir(data_dir)\n",
    "os.chdir('alanine_dipeptide/')\n",
    "xtc_file = 'alanine-dipeptide-0-250ns-nowater.xtc'\n",
    "top_file = 'alanine-dipeptide-nowater.pdb'\n",
    "traj = md.load(xtc_file,top=top_file)\n",
    "\n",
    "# create graphs\n",
    "batch_size = 32\n",
    "z = [atom.element.atomic_number for atom in traj.topology.atoms]\n",
    "G = [AlanineDipeptideGraph(z = torch.tensor(z).long(),pos = torch.tensor(xyz)) for xyz in traj.xyz]\n",
    "loader = DataLoader(G,batch_size = batch_size)"
   ]
  },
  {
   "cell_type": "code",
   "execution_count": 3,
   "id": "1efac2eb-60de-4867-b439-ebfcd1ad34f4",
   "metadata": {},
   "outputs": [],
   "source": [
    "# build dimenet model\n",
    "hidden_channels, out_channels, num_blocks, num_bilinear, num_spherical, num_radial = 64, 16, 2, 4, 6, 6\n",
    "mod = DimeNet(hidden_channels, out_channels, num_blocks, num_bilinear, num_spherical, num_radial)\n",
    "\n",
    "for G_batch in loader:\n",
    "    batch = G_batch.batch\n",
    "    out = mod(G_batch.z,G_batch.pos,batch)\n",
    "    break"
   ]
  },
  {
   "cell_type": "code",
   "execution_count": null,
   "id": "06fbfd58-93ef-4e54-81d6-63b230aadd7e",
   "metadata": {},
   "outputs": [],
   "source": []
  }
 ],
 "metadata": {
  "kernelspec": {
   "display_name": "Python 3",
   "language": "python",
   "name": "python3"
  },
  "language_info": {
   "codemirror_mode": {
    "name": "ipython",
    "version": 3
   },
   "file_extension": ".py",
   "mimetype": "text/x-python",
   "name": "python",
   "nbconvert_exporter": "python",
   "pygments_lexer": "ipython3",
   "version": "3.8.8"
  }
 },
 "nbformat": 4,
 "nbformat_minor": 5
}
