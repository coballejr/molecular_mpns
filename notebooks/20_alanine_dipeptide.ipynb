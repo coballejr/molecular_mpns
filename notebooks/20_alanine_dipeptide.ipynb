{
 "cells": [
  {
   "cell_type": "code",
   "execution_count": 1,
   "id": "95e4515c-c60d-4366-a040-a726464e7740",
   "metadata": {},
   "outputs": [
    {
     "data": {
      "application/vnd.jupyter.widget-view+json": {
       "model_id": "dc7884efd0d7411b8755d94e7ccfef4c",
       "version_major": 2,
       "version_minor": 0
      },
      "text/plain": []
     },
     "metadata": {},
     "output_type": "display_data"
    }
   ],
   "source": [
    "from molecular_mpns.config import data_dir\n",
    "import numpy as np \n",
    "import mdtraj as md\n",
    "import os\n",
    "from molecular_mpns.data import AlanineDipeptideGraph\n",
    "from torch_geometric.data import DataLoader\n",
    "import torch\n",
    "import mdtraj as md\n",
    "import nglview as nv\n",
    "import matplotlib.pyplot as plt"
   ]
  },
  {
   "cell_type": "code",
   "execution_count": 2,
   "id": "4d9ed9f7-be3d-44de-a2d4-3dbf35f2197e",
   "metadata": {},
   "outputs": [],
   "source": [
    "# load training trajectory\n",
    "os.chdir(data_dir)\n",
    "os.chdir('alanine_dipeptide/')\n",
    "xtc_file = 'alanine-dipeptide-0-250ns-nowater.xtc'\n",
    "top_file = 'alanine-dipeptide-nowater.pdb'\n",
    "traj = md.load(xtc_file,top=top_file)\n",
    "\n",
    "# create a random trajectory\n",
    "rand_xyz = np.random.randn(10,22,3)\n",
    "rand_traj = md.Trajectory(xyz = rand_xyz,topology = traj.topology)\n",
    "\n",
    "# computing dihedrals\n",
    "atoms, bonds = rand_traj.topology.to_dataframe()\n",
    "psi_inds, phi_inds = [6, 8, 14, 16], [4, 6, 8, 14]\n",
    "dihedrals = md.compute_dihedrals(rand_traj,[psi_inds,phi_inds])    "
   ]
  },
  {
   "cell_type": "code",
   "execution_count": 4,
   "id": "f17b09cc-ae12-474f-9f80-e0e64be92554",
   "metadata": {},
   "outputs": [
    {
     "data": {
      "application/vnd.jupyter.widget-view+json": {
       "model_id": "20fe1fb66393440da45f09802e090049",
       "version_major": 2,
       "version_minor": 0
      },
      "text/plain": [
       "NGLWidget(max_frame=249999)"
      ]
     },
     "metadata": {},
     "output_type": "display_data"
    }
   ],
   "source": [
    "# visualize trajectory\n",
    "view = nv.show_mdtraj(traj)\n",
    "view.add_ball_and_stick(aspectRatio = 1)\n",
    "view"
   ]
  }
 ],
 "metadata": {
  "kernelspec": {
   "display_name": "Python 3",
   "language": "python",
   "name": "python3"
  },
  "language_info": {
   "codemirror_mode": {
    "name": "ipython",
    "version": 3
   },
   "file_extension": ".py",
   "mimetype": "text/x-python",
   "name": "python",
   "nbconvert_exporter": "python",
   "pygments_lexer": "ipython3",
   "version": "3.8.8"
  }
 },
 "nbformat": 4,
 "nbformat_minor": 5
}
