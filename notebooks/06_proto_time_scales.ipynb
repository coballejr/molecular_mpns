{
 "cells": [
  {
   "cell_type": "code",
   "execution_count": 1,
   "metadata": {},
   "outputs": [],
   "source": [
    "import numpy as np\n",
    "from molecular_mpns.config import data_dir\n",
    "from molecular_mpns.proto_molecule import Molecule\n",
    "from molecular_mpns.math import km_estimators\n",
    "from molecular_mpns.math import PerronFrobenius2D,galerkin_coords\n",
    "from d3s.domain import discretization\n",
    "from d3s.observables import periodic_gaussians,gaussians\n",
    "from d3s.algorithms import gedmd"
   ]
  },
  {
   "cell_type": "code",
   "execution_count": 2,
   "metadata": {},
   "outputs": [],
   "source": [
    "# set up molecular environment \n",
    "N = 5\n",
    "beta = 15.0\n",
    "kb = 1.0\n",
    "rb = 2.0\n",
    "ka = 1.0\n",
    "ra = np.pi/2\n",
    "kd = np.array([[0.02, 3], [0.02, 2]])\n",
    "mol = Molecule(N, beta, kb, rb, ka, ra, kd)\n",
    "\n",
    "# gedmd parameters\n",
    "bounds,boxes = np.array([[-2.5,2.5],[-2.5,2.5]]),np.array([10,10]) # 2.5,2.4\n",
    "omega = discretization(bounds,boxes)\n",
    "sigma = np.sqrt(0.05)\n",
    "psi = gaussians(Omega = omega,sigma = sigma)\n",
    "\n",
    "# load data\n",
    "X,Y,Z = np.load(str(data_dir)+'/proto_angles.npy') , np.load(str(data_dir)+'/proto_effective_drift.npy'), np.load(str(data_dir)+'/proto_effective_diffusion.npy')    "
   ]
  },
  {
   "cell_type": "code",
   "execution_count": 3,
   "metadata": {},
   "outputs": [],
   "source": [
    "# reference gedmd\n",
    "\n",
    "np.random.seed(42)\n",
    "nsamps = 2000000\n",
    "\n",
    "rand_idx = np.random.choice(X.shape[1],nsamps)\n",
    "X_samp,Y_samp,Z_samp = X[:,rand_idx],Y[:,rand_idx],Z[:,:,rand_idx]\n",
    "A,d,V = gedmd(X_samp,-Y_samp,Z_samp,psi,diffusion = True,evs=20)"
   ]
  },
  {
   "cell_type": "code",
   "execution_count": 67,
   "metadata": {},
   "outputs": [],
   "source": [
    "# km gedmd\n",
    "dt = 5e-3\n",
    "Y_km,Z_km =  np.zeros((X.shape[1],2)),np.zeros((2,2,X.shape[1]))\n",
    "\n",
    "for i in range(X.shape[1]-1):\n",
    "    x_current,x_next = X.T[i],X.T[i+1]\n",
    "    y,z = km_estimators(x_current,x_next,dt)\n",
    "    Y_km[i,:] = y\n",
    "    Z_km[:,:,i] = z\n",
    "\n",
    "np.random.seed(42)\n",
    "rand_idx = np.random.choice(X.shape[1],nsamps)\n",
    "X_samp,Y_samp,Z_samp = X[:,rand_idx],Y_km[rand_idx,:],Z_km[:,:,rand_idx]\n",
    "A_km,d_km,V_km = gedmd(X_samp,Y_samp.T,Z_samp,psi = psi, diffusion = False,evs = 20)"
   ]
  },
  {
   "cell_type": "code",
   "execution_count": 4,
   "metadata": {},
   "outputs": [
    {
     "name": "stdout",
     "output_type": "stream",
     "text": [
      "(array([1.        , 0.99575226, 0.99471611, 0.99388649, 0.990332  ,\n",
      "       0.98993615, 0.97834235, 0.97298399, 0.97142238, 0.96705227,\n",
      "       0.96204326, 0.96135165, 0.95948184, 0.9564025 , 0.95482047,\n",
      "       0.95413367, 0.95319133, 0.9529866 , 0.95128978, 0.94944094]), array([-5.00000028e+04,  1.17462364e+00,  9.43787691e-01,  8.15372086e-01,\n",
      "        5.14671233e-01,  4.94328439e-01,  2.28357257e-01,  1.82564694e-01,\n",
      "        1.72450597e-01,  1.49242003e-01,  1.29213136e-01,  1.26855525e-01,\n",
      "        1.20884532e-01,  1.12167156e-01,  1.08150569e-01,  1.06493104e-01,\n",
      "        1.04298083e-01,  1.03832812e-01,  1.00127263e-01,  9.63728191e-02]))\n"
     ]
    }
   ],
   "source": [
    "# reference MSM model\n",
    "angles = np.load(str(data_dir)+'/proto_xi_traj.npy')\n",
    "angles = angles.T\n",
    "pf = PerronFrobenius2D(15,np.array([[-np.pi,np.pi],[-np.pi,np.pi]]))\n",
    "pf.estimate(angles,normalize = True)\n",
    "ts = pf.implied_timescales(dt = 5e-3,n_vals = 20)\n",
    "print(ts)"
   ]
  },
  {
   "cell_type": "code",
   "execution_count": null,
   "metadata": {},
   "outputs": [],
   "source": []
  }
 ],
 "metadata": {
  "kernelspec": {
   "display_name": "Python 3",
   "language": "python",
   "name": "python3"
  },
  "language_info": {
   "codemirror_mode": {
    "name": "ipython",
    "version": 3
   },
   "file_extension": ".py",
   "mimetype": "text/x-python",
   "name": "python",
   "nbconvert_exporter": "python",
   "pygments_lexer": "ipython3",
   "version": "3.8.5"
  }
 },
 "nbformat": 4,
 "nbformat_minor": 4
}
