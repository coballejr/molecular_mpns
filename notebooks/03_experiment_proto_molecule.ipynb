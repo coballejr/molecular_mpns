{
 "cells": [
  {
   "cell_type": "code",
   "execution_count": 1,
   "metadata": {},
   "outputs": [],
   "source": [
    "import torch \n",
    "import torch_geometric\n",
    "from molecular_mpns.proto_molecule import Molecule\n",
    "from molecular_mpns.data import MarkovMolGraph\n",
    "from molecular_mpns.config import data_dir,fig_dir\n",
    "from molecular_mpns.modules import ProtoNet\n",
    "import numpy as np\n",
    "import matplotlib.pyplot as plt\n",
    "import seaborn as sns\n",
    "import matplotlib.ticker as tick"
   ]
  },
  {
   "cell_type": "code",
   "execution_count": 2,
   "metadata": {},
   "outputs": [],
   "source": [
    "# set up molecular environment \n",
    "N = 5\n",
    "beta = 15.0\n",
    "kb = 1.0\n",
    "rb = 2.0\n",
    "ka = 1.0\n",
    "ra = np.pi/2\n",
    "kd = np.array([[0.02, 3], [0.02, 2]])\n",
    "mol = Molecule(N, beta, kb, rb, ka, ra, kd)"
   ]
  },
  {
   "cell_type": "code",
   "execution_count": 3,
   "metadata": {},
   "outputs": [],
   "source": [
    "# load data\n",
    "data = np.load(str(data_dir)+'/proto_mol_traj.npy')\n",
    "\n",
    "# training-validation partition\n",
    "np.random.seed(42)\n",
    "part = 1000000\n",
    "n_train,n_val = 200000,200000\n",
    "\n",
    "train,val = data[0:part],data[part:]\n",
    "train_idx,val_idx = np.random.choice(train.shape[0],n_train),np.random.choice(val.shape[0],n_val)\n"
   ]
  },
  {
   "cell_type": "code",
   "execution_count": 4,
   "metadata": {},
   "outputs": [],
   "source": [
    "# build model\n",
    "device = torch.device(\"cuda\" if torch.cuda.is_available() else \"cpu\")\n",
    "\n",
    "emb_dim = 64\n",
    "intermediate_dim = 32\n",
    "n_rbf = 32\n",
    "rbf_range = [2,5]\n",
    "gamma = 2\n",
    "\n",
    "reg_proj = (beta/2)\n",
    "reg_norm = (beta/4)\n",
    "dt = 5e-3\n",
    "\n",
    "mod = ProtoNet(emb_dim,intermediate_dim,n_rbf,rbf_range,gamma)\n",
    "mod = mod.double()\n",
    "mod = mod.to(device)\n",
    "\n",
    "opt = torch.optim.SGD(mod.parameters(),lr = 1e-3)"
   ]
  },
  {
   "cell_type": "code",
   "execution_count": 5,
   "metadata": {},
   "outputs": [
    {
     "name": "stdout",
     "output_type": "stream",
     "text": [
      "Epoch 1 Loss:-3.22539924261005\n"
     ]
    },
    {
     "data": {
      "image/png": "[encoded data removed]",
      "text/plain": [
       "<Figure size 432x288 with 3 Axes>"
      ]
     },
     "metadata": {
      "needs_background": "light"
     },
     "output_type": "display_data"
    }
   ],
   "source": [
    "# train\n",
    "np.random.seed(42)\n",
    "part = 1000000\n",
    "n_train,n_val = 10000,10000\n",
    "train,val = data[0:part],data[part:]\n",
    "val_idx = np.random.choice(val.shape[0],n_val)\n",
    "\n",
    "val_set = val[val_idx]\n",
    "\n",
    "epochs = 1\n",
    "bs = 32\n",
    "Z = np.array([[0],[0],[0],[0],[0]])\n",
    "\n",
    "for ep in range(epochs):\n",
    "    ep_loss = 0.0\n",
    "    loss = 0.0\n",
    "    train_idx= np.random.choice(train.shape[0],n_train)\n",
    "    \n",
    "    for i,idx in enumerate(train_idx):\n",
    "        \n",
    "        if (idx+1) != part:\n",
    "            r_current,r_next = train[idx],train[idx+1]\n",
    "        else:\n",
    "            r_current,r_next = data[idx],data[idx+1]\n",
    "            \n",
    "        g = MarkovMolGraph(r_current=r_current,r_next = r_next, Z = Z)\n",
    "        g.to(device)\n",
    "        \n",
    "        V = mod(g)\n",
    "        \n",
    "        dx = g.r_next - g.r_current\n",
    "        b = -1*torch.autograd.grad(V,g.r_current,create_graph = True)[0]\n",
    "        \n",
    "        loss += -reg_proj*((b*dx).sum()) + reg_norm*((b*b).sum())*dt\n",
    "        \n",
    "        if (i+1)%bs == 0:\n",
    "            loss.backward()\n",
    "            opt.step()\n",
    "            opt.zero_grad()\n",
    "            ep_loss += loss.item()\n",
    "            loss = 0.0\n",
    "    \n",
    "    print('Epoch ' + str(ep+1) + ' Loss:' + str(ep_loss))\n",
    "    \n",
    "    # validate\n",
    "    with torch.no_grad():\n",
    "        IC,V,V_pred = np.zeros((n_val,9)),np.zeros(n_val),np.zeros(n_val)\n",
    "        for i,x in enumerate(val_set):\n",
    "            v,ic = mol._potential(x),mol._internal_coordinates(x)\n",
    "            V[i],IC[i,:] = v,ic\n",
    "            \n",
    "            g = MarkovMolGraph(r_current=x,r_next = x, Z = Z)\n",
    "            g.to(device)\n",
    "            v_pred = mod(g)\n",
    "            V_pred[i] = v_pred.cpu().numpy()\n",
    "            \n",
    "        phi,psi = IC[:,7],IC[:,8]\n",
    "        fig,ax = plt.subplots(1,2,sharey = True)\n",
    "        cbar_ax = fig.add_axes([0.85, 0.15, 0.05, 0.7])\n",
    "        formatter=tick.FormatStrFormatter('%.2f')\n",
    "        cbar_kws = {'label': 'Boltzmann Density','format':formatter}\n",
    "            \n",
    "        sns.kdeplot(ax = ax[0],x=phi,y=psi,weights = np.exp(-beta*V),fill = True,cmap = 'viridis',vmin = 0,vmax = 0.04,cbar = True,cbar_ax = cbar_ax,cbar_kws = cbar_kws)\n",
    "        ax[0].set_aspect('equal')\n",
    "        ax[0].set_title('True Stat. Dist.')\n",
    "        ax[0].set_xlabel('$\\psi$ / rad')\n",
    "        ax[0].set_ylabel('$\\phi$ /rad')\n",
    "        \n",
    "      \n",
    "        im=sns.kdeplot(ax = ax[1],x=phi,y=psi,weights = np.exp(-beta*V_pred),fill = True,cmap = 'viridis',vmin = 0,vmax = 0.04) \n",
    "        ax[1].set_aspect('equal')\n",
    "        ax[1].set_title('Predicted Stat. Dist.')\n",
    "        ax[1].set_xlabel('$\\psi$ / rad')\n",
    "    \n",
    "        fig.subplots_adjust(right=0.8)\n",
    "        plt.savefig(str(fig_dir)+'/proto_da_poten.png')\n",
    "        plt.show()\n",
    "        plt.close()"
   ]
  },
  {
   "cell_type": "code",
   "execution_count": null,
   "metadata": {},
   "outputs": [],
   "source": []
  }
 ],
 "metadata": {
  "kernelspec": {
   "display_name": "Python 3",
   "language": "python",
   "name": "python3"
  },
  "language_info": {
   "codemirror_mode": {
    "name": "ipython",
    "version": 3
   },
   "file_extension": ".py",
   "mimetype": "text/x-python",
   "name": "python",
   "nbconvert_exporter": "python",
   "pygments_lexer": "ipython3",
   "version": "3.8.8"
  }
 },
 "nbformat": 4,
 "nbformat_minor": 4
}
