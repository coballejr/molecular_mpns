{
 "cells": [
  {
   "cell_type": "code",
   "execution_count": 1,
   "metadata": {},
   "outputs": [
    {
     "data": {
      "application/vnd.jupyter.widget-view+json": {
       "model_id": "557257e2f918474d8ea6f77d498299ee",
       "version_major": 2,
       "version_minor": 0
      },
      "text/plain": []
     },
     "metadata": {},
     "output_type": "display_data"
    }
   ],
   "source": [
    "from molecular_mpns.proto_molecule import Molecule\n",
    "from molecular_mpns.config import data_dir,model_dir\n",
    "from molecular_mpns.modules import ProtoNet\n",
    "from molecular_mpns.data import MarkovMolGraph\n",
    "import numpy as np\n",
    "import torch\n",
    "import mdtraj as md\n",
    "import nglview as nv\n",
    "import seaborn as sns"
   ]
  },
  {
   "cell_type": "code",
   "execution_count": 2,
   "metadata": {},
   "outputs": [
    {
     "data": {
      "application/vnd.jupyter.widget-view+json": {
       "model_id": "f3394a6618734c4382a70d8e5ecac78b",
       "version_major": 2,
       "version_minor": 0
      },
      "text/plain": [
       "NGLWidget(max_frame=2000000)"
      ]
     },
     "metadata": {},
     "output_type": "display_data"
    }
   ],
   "source": [
    "# molecular system\n",
    "N = 5\n",
    "beta = 15.0\n",
    "kb = 1.0\n",
    "rb = 2.0\n",
    "ka = 1.0\n",
    "ra = np.pi/2\n",
    "kd = np.array([[0.02, 3], [0.02, 2]])\n",
    "Mol = Molecule(N, beta, kb, rb, ka, ra, kd)\n",
    "\n",
    "# load data\n",
    "xyz_traj = np.load(str(data_dir)+'/proto_mol_traj.npy')\n",
    "m = xyz_traj.shape[0]\n",
    "traj = md.Trajectory(xyz_traj, Mol._create_top()) # create Trajectory object\n",
    "\n",
    "# visulaize trajectory\n",
    "view = nv.show_mdtraj(traj)\n",
    "view.add_ball_and_stick(aspectRatio = 10)\n",
    "view"
   ]
  },
  {
   "cell_type": "code",
   "execution_count": 4,
   "metadata": {},
   "outputs": [],
   "source": [
    "# simulate trajectory with model\n",
    "np.random.seed(42)\n",
    "\n",
    "dt = 5e-3\n",
    "nsteps = 1\n",
    "h = nsteps*dt\n",
    "\n",
    "emb_dim = 128\n",
    "intermediate_dim = 128\n",
    "n_rbf = 128\n",
    "rbf_range = [0.5,6]\n",
    "gamma = 1\n",
    "\n",
    "path = str(model_dir)+'/mod_proto_'+str(nsteps)+'.pt'\n",
    "mod = ProtoNet(emb_dim,intermediate_dim,n_rbf,rbf_range,gamma)\n",
    "mod.load_state_dict(torch.load(path))\n",
    "mod = mod.eval()\n",
    "mod = mod.double()\n",
    "\n",
    "xyz_traj_sim = np.zeros((m,5,3))\n",
    "xyz_traj_sim[0,:,:] = xyz_traj[0]\n",
    "Z = np.array([[0],[0],[0],[0],[0]])\n",
    "\n",
    "for t in range(1,m):\n",
    "    xyz_current = xyz_traj_sim[t-1]\n",
    "    g = MarkovMolGraph(r_current=xyz_current,r_next = xyz_current, Z = Z)\n",
    "    V = mod(g)\n",
    "    dV = torch.autograd.grad(V,g.r_current)[0]\n",
    "    dV = dV.detach().cpu().numpy()\n",
    "    xyz_next = xyz_current - dV*h + np.sqrt((2*h)/beta)*np.random.randn(5,3)\n",
    "    xyz_traj_sim[t] = xyz_next\n",
    "    "
   ]
  },
  {
   "cell_type": "code",
   "execution_count": 5,
   "metadata": {},
   "outputs": [
    {
     "data": {
      "application/vnd.jupyter.widget-view+json": {
       "model_id": "c33087edf6d9481d9dec65c61aad97b5",
       "version_major": 2,
       "version_minor": 0
      },
      "text/plain": [
       "NGLWidget(max_frame=2000000)"
      ]
     },
     "metadata": {},
     "output_type": "display_data"
    }
   ],
   "source": [
    "\n",
    "traj_sim = md.Trajectory(xyz_traj_sim, Mol._create_top()) # create Trajectory object\n",
    "\n",
    "# visulaize trajectory\n",
    "view_sim = nv.show_mdtraj(traj_sim)\n",
    "view_sim.add_ball_and_stick(aspect_ratio = 10)\n",
    "view_sim"
   ]
  },
  {
   "cell_type": "code",
   "execution_count": 8,
   "metadata": {},
   "outputs": [],
   "source": [
    "# compute distribution of simulated dihedral angles \n",
    "\n",
    "IC = np.zeros((m,2))\n",
    "\n",
    "for i,xyz in enumerate(xyz_traj_sim):\n",
    "    ic = Mol._internal_coordinates(xyz)\n",
    "    da = ic[7:9]\n",
    "    IC[i] = da"
   ]
  },
  {
   "cell_type": "code",
   "execution_count": 11,
   "metadata": {},
   "outputs": [
    {
     "ename": "NameError",
     "evalue": "name 'plt' is not defined",
     "output_type": "error",
     "traceback": [
      "\u001b[0;31m---------------------------------------------------------------------------\u001b[0m",
      "\u001b[0;31mNameError\u001b[0m                                 Traceback (most recent call last)",
      "\u001b[0;32m<ipython-input-11-35ef46c97ca3>\u001b[0m in \u001b[0;36m<module>\u001b[0;34m\u001b[0m\n\u001b[1;32m      1\u001b[0m \u001b[0msns\u001b[0m\u001b[0;34m.\u001b[0m\u001b[0mkdeplot\u001b[0m\u001b[0;34m(\u001b[0m\u001b[0mx\u001b[0m \u001b[0;34m=\u001b[0m \u001b[0mIC\u001b[0m\u001b[0;34m[\u001b[0m\u001b[0;34m:\u001b[0m\u001b[0;34m,\u001b[0m\u001b[0;36m0\u001b[0m\u001b[0;34m]\u001b[0m\u001b[0;34m,\u001b[0m\u001b[0my\u001b[0m \u001b[0;34m=\u001b[0m \u001b[0mIC\u001b[0m\u001b[0;34m[\u001b[0m\u001b[0;34m:\u001b[0m\u001b[0;34m,\u001b[0m\u001b[0;36m1\u001b[0m\u001b[0;34m]\u001b[0m\u001b[0;34m)\u001b[0m\u001b[0;34m\u001b[0m\u001b[0;34m\u001b[0m\u001b[0m\n\u001b[0;32m----> 2\u001b[0;31m \u001b[0mplt\u001b[0m\u001b[0;34m.\u001b[0m\u001b[0mshow\u001b[0m\u001b[0;34m(\u001b[0m\u001b[0;34m)\u001b[0m\u001b[0;34m\u001b[0m\u001b[0;34m\u001b[0m\u001b[0m\n\u001b[0m\u001b[1;32m      3\u001b[0m \u001b[0mplt\u001b[0m\u001b[0;34m.\u001b[0m\u001b[0mclose\u001b[0m\u001b[0;34m(\u001b[0m\u001b[0;34m)\u001b[0m\u001b[0;34m\u001b[0m\u001b[0;34m\u001b[0m\u001b[0m\n",
      "\u001b[0;31mNameError\u001b[0m: name 'plt' is not defined"
     ]
    },
    {
     "data": {
      "image/png": "[encoded data removed]",
      "text/plain": [
       "<Figure size 432x288 with 1 Axes>"
      ]
     },
     "metadata": {
      "needs_background": "light"
     },
     "output_type": "display_data"
    }
   ],
   "source": [
    "sns.kdeplot(x = IC[:,0],y = IC[:,1])\n",
    "plt.show()\n",
    "plt.close()"
   ]
  },
  {
   "cell_type": "code",
   "execution_count": null,
   "metadata": {},
   "outputs": [],
   "source": []
  }
 ],
 "metadata": {
  "kernelspec": {
   "display_name": "Python 3",
   "language": "python",
   "name": "python3"
  },
  "language_info": {
   "codemirror_mode": {
    "name": "ipython",
    "version": 3
   },
   "file_extension": ".py",
   "mimetype": "text/x-python",
   "name": "python",
   "nbconvert_exporter": "python",
   "pygments_lexer": "ipython3",
   "version": "3.8.8"
  }
 },
 "nbformat": 4,
 "nbformat_minor": 4
}
